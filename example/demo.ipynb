{
 "cells": [
  {
   "cell_type": "code",
   "execution_count": 1,
   "id": "13b56672-f566-4bb2-a173-a2606391f7da",
   "metadata": {},
   "outputs": [],
   "source": [
    "import demo_jupyter_wasm_webgpu_widget as demo"
   ]
  },
  {
   "cell_type": "code",
   "execution_count": 2,
   "id": "8e8d184b-5a69-48a6-823a-967bba296d14",
   "metadata": {},
   "outputs": [
    {
     "data": {
      "application/vnd.jupyter.widget-view+json": {
       "model_id": "4bf70ec991c945948c34e5490aa2204e",
       "version_major": 2,
       "version_minor": 1
      },
      "text/plain": [
       "WasmTestWidget()"
      ]
     },
     "execution_count": 2,
     "metadata": {},
     "output_type": "execute_result"
    }
   ],
   "source": [
    "w = demo.WasmTestWidget()\n",
    "w"
   ]
  },
  {
   "cell_type": "code",
   "execution_count": 3,
   "id": "c09e9e0d-a6e3-404e-b868-306349311bc8",
   "metadata": {},
   "outputs": [],
   "source": [
    "with open(\"./AntiqueCamera.glb\", \"rb\") as f:\n",
    "    w.data = f.read()"
   ]
  },
  {
   "cell_type": "code",
   "execution_count": 4,
   "id": "e48e6943-6282-4a4b-bec2-e93d27110ed2",
   "metadata": {},
   "outputs": [],
   "source": [
    "with open(\"./DamagedHelmet.glb\", \"rb\") as f:\n",
    "    w.data = f.read()"
   ]
  }
 ],
 "metadata": {
  "kernelspec": {
   "display_name": "Python 3 (ipykernel)",
   "language": "python",
   "name": "python3"
  },
  "language_info": {
   "codemirror_mode": {
    "name": "ipython",
    "version": 3
   },
   "file_extension": ".py",
   "mimetype": "text/x-python",
   "name": "python",
   "nbconvert_exporter": "python",
   "pygments_lexer": "ipython3",
   "version": "3.11.7"
  }
 },
 "nbformat": 4,
 "nbformat_minor": 5
}
